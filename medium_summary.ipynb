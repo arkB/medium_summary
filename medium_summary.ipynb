{
 "cells": [
  {
   "cell_type": "code",
   "execution_count": 1,
   "metadata": {
    "scrolled": false
   },
   "outputs": [],
   "source": [
    "from bs4 import BeautifulSoup\n",
    "import requests\n",
    "from summpy.lexrank import summarize"
   ]
  },
  {
   "cell_type": "code",
   "execution_count": 2,
   "metadata": {},
   "outputs": [],
   "source": [
    "r = requests.get(\"https://medium.com/@arkbb3/%E7%8C%AB%E3%82%AB%E3%83%95%E3%82%A7%E3%81%AF%E3%81%A9%E3%81%93%E3%81%B8%E6%B6%88%E3%81%88%E3%81%9F-9486c89a432e\")\n",
    "soup = BeautifulSoup(r.content, 'html.parser')"
   ]
  },
  {
   "cell_type": "code",
   "execution_count": 3,
   "metadata": {
    "scrolled": true
   },
   "outputs": [
    {
     "name": "stdout",
     "output_type": "stream",
     "text": [
      "猫カフェと私じぶんは猫カフェというところに行ったことがない。\n",
      "経験がないのでその手の話題への感度が低くて、いまいちピンと来ないことが多く、猫カフェに行こうと思ったことがない。\n",
      "語り得ぬことには沈黙は金（？）猫カフェBot爆誕そんなこんなで来年は猫カフェに一度行ってみたいと考えている。\n",
      "提案してくれたのは猫のいる休憩所299という猫カフェで地図で確かめると池袋駅から行った方が近かったりする（笑）猫カフェBotの仕組みあらBotの中でやってることは簡単でGoogle Places APIというGoogle Map にあるお店情報を取得できるAPIでタイプに“Cafe”、キーワードに「猫カフェ」として半径1000m指定で検索しているだけである。\n",
      "（そんな場所に猫カフェなど高尚な施設はなかったのだ？）来年こそはこれで気が向いたときに好きな場所でそこそこ良さそうな猫カフェを手軽に探すことはできそうなので、来年一度行ってみたいと思う。\n"
     ]
    }
   ],
   "source": [
    "for t in soup.findAll(class_='section-inner sectionLayout--insetColumn'):\n",
    " text = t.get_text()\n",
    " text_new = ''.join(text.splitlines())\n",
    " #print(text_new)\n",
    " sentences, debug_info = summarize(text_new, sent_limit=5, continuous=True, debug=True)\n",
    " for sent in sentences:\n",
    "  print(sent.strip())"
   ]
  },
  {
   "cell_type": "code",
   "execution_count": null,
   "metadata": {},
   "outputs": [],
   "source": [
    " "
   ]
  }
 ],
 "metadata": {
  "kernelspec": {
   "display_name": "Python 3",
   "language": "python",
   "name": "python3"
  },
  "language_info": {
   "codemirror_mode": {
    "name": "ipython",
    "version": 3
   },
   "file_extension": ".py",
   "mimetype": "text/x-python",
   "name": "python",
   "nbconvert_exporter": "python",
   "pygments_lexer": "ipython3",
   "version": "3.6.4"
  }
 },
 "nbformat": 4,
 "nbformat_minor": 2
}
